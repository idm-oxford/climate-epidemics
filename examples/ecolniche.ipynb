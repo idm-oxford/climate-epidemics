{
 "cells": [
  {
   "cell_type": "code",
   "execution_count": null,
   "metadata": {},
   "outputs": [],
   "source": [
    "import climepi\n",
    "import climepi.climdata.cesm as cesm\n",
    "import climepi.epimod\n",
    "import climepi.epimod.ecolniche as ecolniche\n",
    "import xarray as xr"
   ]
  },
  {
   "cell_type": "code",
   "execution_count": null,
   "metadata": {},
   "outputs": [],
   "source": [
    "ds_clim = cesm.load_example_data()\n",
    "# ds_clim = ds_clim.isel(lat=range(0, 190, 10), lon=range(0, 280, 10), realization=0)\n",
    "ds_clim"
   ]
  },
  {
   "cell_type": "code",
   "execution_count": null,
   "metadata": {},
   "outputs": [],
   "source": [
    "epi_model = ecolniche.import_kaye_model()\n",
    "ds_clim.epimod.model = epi_model"
   ]
  },
  {
   "cell_type": "code",
   "execution_count": null,
   "metadata": {},
   "outputs": [],
   "source": [
    "ds_epi = ds_clim.epimod.run_model()\n",
    "ds_epi"
   ]
  },
  {
   "cell_type": "code",
   "execution_count": null,
   "metadata": {},
   "outputs": [],
   "source": [
    "ds_epi_am = ds_epi.climepi.annual_mean()\n",
    "ds_epi_am.load()"
   ]
  },
  {
   "cell_type": "code",
   "execution_count": null,
   "metadata": {},
   "outputs": [],
   "source": [
    "ds_epi_am_em = ds_epi_am.climepi.ensemble_mean()\n",
    "ds_epi_am_em.climepi.plot_map()"
   ]
  },
  {
   "cell_type": "code",
   "execution_count": null,
   "metadata": {},
   "outputs": [],
   "source": [
    "ds_epi_am_es = ds_epi_am.climepi.ensemble_stats()\n",
    "ds_epi_am_es.sel(ensemble_statistic='min').climepi.plot_map()+ds_epi_am_es.sel(ensemble_statistic='max').climepi.plot_map()"
   ]
  },
  {
   "cell_type": "code",
   "execution_count": null,
   "metadata": {},
   "outputs": [],
   "source": [
    "ds = ds_epi_am.isel(time=2)-ds_epi_am.isel(time=0)\n",
    "ds = ds.climepi.ensemble_mean()\n",
    "ds.climepi.plot_map()"
   ]
  }
 ],
 "metadata": {
  "kernelspec": {
   "display_name": "climepi",
   "language": "python",
   "name": "python3"
  },
  "language_info": {
   "codemirror_mode": {
    "name": "ipython",
    "version": 3
   },
   "file_extension": ".py",
   "mimetype": "text/x-python",
   "name": "python",
   "nbconvert_exporter": "python",
   "pygments_lexer": "ipython3",
   "version": "3.11.5"
  },
  "orig_nbformat": 4
 },
 "nbformat": 4,
 "nbformat_minor": 2
}
