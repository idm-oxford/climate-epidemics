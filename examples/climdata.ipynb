{
 "cells": [
  {
   "cell_type": "code",
   "execution_count": null,
   "metadata": {},
   "outputs": [],
   "source": [
    "import climepi\n",
    "import climepi.climdata.cesm as cesm\n",
    "import xarray as xr\n",
    "ds = cesm.import_data()\n",
    "#ds = xr.tutorial.open_dataset('air_temperature').rename_vars({'air':'temperature'}).isel(time=range(10)).expand_dims(dim={'realization':[0]},axis=3)\n",
    "ds"
   ]
  },
  {
   "cell_type": "code",
   "execution_count": null,
   "metadata": {},
   "outputs": [],
   "source": [
    "ds.temperature"
   ]
  },
  {
   "cell_type": "code",
   "execution_count": null,
   "metadata": {},
   "outputs": [],
   "source": [
    "ds_tmm = ds.climepi.annual_mean('temperature') #clix meta naming convention\n",
    "ds_tmm"
   ]
  },
  {
   "cell_type": "code",
   "execution_count": null,
   "metadata": {},
   "outputs": [],
   "source": [
    "ds_tmm_ensmean = ds_tmm.climepi.ensemble_mean('temperature')\n",
    "ds_tmm_ensmean"
   ]
  },
  {
   "cell_type": "code",
   "execution_count": null,
   "metadata": {},
   "outputs": [],
   "source": [
    "ds_tmm_ensmean.climepi.plot_map('temperature')"
   ]
  },
  {
   "cell_type": "code",
   "execution_count": null,
   "metadata": {},
   "outputs": [],
   "source": [
    "ds_tmm_stats_ex = ds_tmm.sel(lon=0, lat=0, method='nearest').climepi.ensemble_mean_conf('temperature', conf_level = 90)\n",
    "ds_tmm_stats_ex"
   ]
  },
  {
   "cell_type": "code",
   "execution_count": null,
   "metadata": {},
   "outputs": [],
   "source": [
    "p1 = ds_tmm_stats_ex.climepi.plot_ensemble_mean_conf('temperature')\n",
    "p2 = ds_tmm.sel(lon=0, lat=0, realization = 0, method='nearest').climepi.plot_time_series('temperature', color='red')\n",
    "p1*p2"
   ]
  },
  {
   "cell_type": "code",
   "execution_count": null,
   "metadata": {},
   "outputs": [],
   "source": [
    "ds_tmm.sel(lon=0, lat=0, method='nearest').climepi.plot_ensemble_mean_conf('temperature', conf_level = 90)"
   ]
  }
 ],
 "metadata": {
  "kernelspec": {
   "display_name": "climepi",
   "language": "python",
   "name": "python3"
  },
  "language_info": {
   "codemirror_mode": {
    "name": "ipython",
    "version": 3
   },
   "file_extension": ".py",
   "mimetype": "text/x-python",
   "name": "python",
   "nbconvert_exporter": "python",
   "pygments_lexer": "ipython3",
   "version": "3.11.5"
  },
  "orig_nbformat": 4
 },
 "nbformat": 4,
 "nbformat_minor": 2
}
