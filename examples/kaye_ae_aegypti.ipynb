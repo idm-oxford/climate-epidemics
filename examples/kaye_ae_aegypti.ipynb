{
 "cells": [
  {
   "cell_type": "code",
   "execution_count": null,
   "id": "70c2081d",
   "metadata": {},
   "outputs": [],
   "source": [
    "import arviz as az\n",
    "import numpy as np\n",
    "import pandas as pd\n",
    "import pymc as pm\n",
    "import pytensor\n",
    "\n",
    "from climepi.epimod._model_fitting import ParameterizedSuitabilityModel\n",
    "\n",
    "pytensor.config.cxx = \"/usr/bin/clang++\"\n"
   ]
  },
  {
   "cell_type": "code",
   "execution_count": null,
   "id": "4445b472",
   "metadata": {},
   "outputs": [],
   "source": [
    "parameters = {\n",
    "    \"eggs_per_female_per_day\": {\n",
    "        \"curve_type\": \"briere\",\n",
    "        \"priors\": {\n",
    "            \"steepness\": lambda: pm.Gamma(\"steepness\", alpha=2, beta=100),\n",
    "            \"temperature_min\": lambda: pm.Gamma(\n",
    "                \"temperature_min\", alpha=10, beta=1 / 2\n",
    "            ),\n",
    "            \"temperature_max\": lambda: pm.Gamma(\n",
    "                \"temperature_max\", alpha=10, beta=1 / 4\n",
    "            ),\n",
    "            \"noise_std\": lambda: pm.Uniform(\"noise_std\", lower=0, upper=10),\n",
    "        },\n",
    "        \"attrs\": {\"long_name\": \"Eggs per female per day\"},\n",
    "    },\n",
    "    \"development_rate\": {\n",
    "        \"curve_type\": \"briere\",\n",
    "        \"priors\": {\n",
    "            \"steepness\": lambda: pm.Gamma(\"steepness\", alpha=9, beta=100000),\n",
    "            \"temperature_min\": lambda: pm.Gamma(\"temperature_min\", alpha=7, beta=1 / 2),\n",
    "            \"temperature_max\": lambda: pm.Gamma(\n",
    "                \"temperature_max\", alpha=10, beta=1 / 4\n",
    "            ),\n",
    "            \"noise_std\": lambda: pm.Uniform(\"noise_std\", lower=0, upper=1),\n",
    "        },\n",
    "        \"attrs\": {\"long_name\": \"Development rate\", \"units\": \"per day\"},\n",
    "    },\n",
    "    \"egg_to_adult_survival_probability\": {\n",
    "        \"curve_type\": \"quadratic\",\n",
    "        \"probability\": True,\n",
    "        \"priors\": {\n",
    "            \"steepness\": lambda: pm.Gamma(\"steepness\", alpha=7, beta=1000),\n",
    "            \"temperature_min\": lambda: pm.Gamma(\"temperature_min\", alpha=7, beta=1 / 2),\n",
    "            \"temperature_max\": lambda: pm.Gamma(\n",
    "                \"temperature_max\", alpha=10, beta=1 / 4\n",
    "            ),\n",
    "            \"noise_std\": lambda: pm.Uniform(\"noise_std\", lower=0, upper=5),\n",
    "        },\n",
    "        \"attrs\": {\"long_name\": \"Egg to adult survival probability\"},\n",
    "    },\n",
    "    \"adult_lifespan\": {\n",
    "        \"curve_type\": \"quadratic\",\n",
    "        \"priors\": {\n",
    "            \"steepness\": lambda: pm.Gamma(\"steepness\", alpha=1, beta=2),\n",
    "            \"temperature_min\": lambda: pm.Gamma(\"temperature_min\", alpha=5, beta=1 / 2),\n",
    "            \"temperature_max\": lambda: pm.Gamma(\"temperature_max\", alpha=9, beta=1 / 5),\n",
    "            \"noise_std\": lambda: pm.Uniform(\"noise_std\", lower=0, upper=50),\n",
    "        },\n",
    "        \"attrs\": {\n",
    "            \"long_name\": \"Adult lifespan\",\n",
    "            \"units\": \"days\",\n",
    "        },\n",
    "    },\n",
    "}\n",
    "data = pd.read_csv(\"data.csv\")"
   ]
  },
  {
   "cell_type": "code",
   "execution_count": null,
   "id": "8cadb2e9",
   "metadata": {},
   "outputs": [],
   "source": [
    "suitability_model = ParameterizedSuitabilityModel(parameters=parameters, data=data)\n",
    "idata_dict = suitability_model.fit_temperature_responses(\n",
    "    tune=10000, draws=10000, thin=10\n",
    ")"
   ]
  },
  {
   "cell_type": "code",
   "execution_count": null,
   "id": "cf0dede5",
   "metadata": {},
   "outputs": [],
   "source": [
    "plots = suitability_model.plot_fitted_temperature_responses(\n",
    "    temperature_vals=np.linspace(0, 50, 500)\n",
    ").cols(2)\n",
    "plots[0].opts(ylim=(0, 15))\n",
    "plots[1].opts(ylim=(0, 0.2))\n",
    "plots[2].opts(ylim=(0, 1))\n",
    "plots[3].opts(ylim=(0, 50))\n",
    "plots"
   ]
  },
  {
   "cell_type": "code",
   "execution_count": null,
   "id": "718c7715",
   "metadata": {},
   "outputs": [],
   "source": [
    "az.plot_trace(idata_dict[\"eggs_per_female_per_day\"]);"
   ]
  },
  {
   "cell_type": "code",
   "execution_count": null,
   "id": "8c8aa52f",
   "metadata": {},
   "outputs": [],
   "source": [
    "az.plot_trace(idata_dict[\"development_rate\"]);"
   ]
  },
  {
   "cell_type": "code",
   "execution_count": null,
   "id": "4bd57fc9",
   "metadata": {},
   "outputs": [],
   "source": [
    "az.plot_trace(\n",
    "    idata_dict[\"egg_to_adult_survival_probability\"],\n",
    "    var_names=[\"steepness\", \"temperature_min\", \"temperature_max\", \"noise_std\"],\n",
    ");"
   ]
  },
  {
   "cell_type": "code",
   "execution_count": null,
   "id": "0ba2a129",
   "metadata": {},
   "outputs": [],
   "source": [
    "az.plot_trace(idata_dict[\"egg_to_adult_survival_probability\"]);"
   ]
  },
  {
   "cell_type": "code",
   "execution_count": null,
   "id": "656a6844",
   "metadata": {},
   "outputs": [],
   "source": [
    "az.plot_trace(\n",
    "    idata_dict[\"adult_lifespan\"],\n",
    "    var_names=[\"steepness\", \"temperature_min\", \"temperature_max\", \"noise_std\"],\n",
    ");"
   ]
  },
  {
   "cell_type": "code",
   "execution_count": null,
   "id": "e4022e36",
   "metadata": {},
   "outputs": [],
   "source": [
    "for parameter_name, idata in idata_dict.items():\n",
    "    print(f\"Parameter: {parameter_name}\")\n",
    "    print(az.rhat(idata))"
   ]
  },
  {
   "cell_type": "code",
   "execution_count": null,
   "id": "a0a516b8",
   "metadata": {},
   "outputs": [],
   "source": [
    "for parameter_name, idata in idata_dict.items():\n",
    "    print(f\"Parameter: {parameter_name}\")\n",
    "    print(az.ess(idata))"
   ]
  }
 ],
 "metadata": {
  "kernelspec": {
   "display_name": "default",
   "language": "python",
   "name": "python3"
  },
  "language_info": {
   "codemirror_mode": {
    "name": "ipython",
    "version": 3
   },
   "file_extension": ".py",
   "mimetype": "text/x-python",
   "name": "python",
   "nbconvert_exporter": "python",
   "pygments_lexer": "ipython3",
   "version": "3.13.5"
  }
 },
 "nbformat": 4,
 "nbformat_minor": 5
}
