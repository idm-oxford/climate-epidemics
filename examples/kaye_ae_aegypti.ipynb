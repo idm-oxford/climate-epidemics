{
 "cells": [
  {
   "cell_type": "code",
   "execution_count": null,
   "id": "70c2081d",
   "metadata": {},
   "outputs": [],
   "source": [
    "import arviz as az\n",
    "import numpy as np\n",
    "import pymc as pm\n",
    "import pytensor\n",
    "\n",
    "from climepi import epimod\n",
    "\n",
    "pytensor.config.cxx = \"/usr/bin/clang++\"\n"
   ]
  },
  {
   "cell_type": "code",
   "execution_count": null,
   "id": "4445b472",
   "metadata": {},
   "outputs": [],
   "source": [
    "parameters = {\n",
    "    \"eggs_per_female_per_day\": {\n",
    "        \"curve_type\": \"briere\",\n",
    "        \"priors\": {\n",
    "            \"scale\": lambda: pm.Gamma(\"scale\", alpha=2, beta=100),\n",
    "            \"temperature_min\": lambda: pm.Gamma(\n",
    "                \"temperature_min\", alpha=10, beta=1 / 2\n",
    "            ),\n",
    "            \"temperature_max\": lambda: pm.Gamma(\n",
    "                \"temperature_max\", alpha=10, beta=1 / 4\n",
    "            ),\n",
    "            \"noise_std\": lambda: pm.Uniform(\"noise_std\", lower=0, upper=10),\n",
    "        },\n",
    "        \"attrs\": {\"long_name\": \"Eggs per female per day\"},\n",
    "    },\n",
    "    \"egg_to_adult_development_rate\": {\n",
    "        \"curve_type\": \"briere\",\n",
    "        \"priors\": {\n",
    "            \"scale\": lambda: pm.Gamma(\"scale\", alpha=9, beta=100000),\n",
    "            \"temperature_min\": lambda: pm.Gamma(\"temperature_min\", alpha=7, beta=1 / 2),\n",
    "            \"temperature_max\": lambda: pm.Gamma(\n",
    "                \"temperature_max\", alpha=10, beta=1 / 4\n",
    "            ),\n",
    "            \"noise_std\": lambda: pm.Uniform(\"noise_std\", lower=0, upper=1),\n",
    "        },\n",
    "        \"attrs\": {\"long_name\": \"Egg to adult development rate\", \"units\": \"per day\"},\n",
    "    },\n",
    "    \"egg_to_adult_survival_probability\": {\n",
    "        \"curve_type\": \"quadratic\",\n",
    "        \"probability\": True,\n",
    "        \"priors\": {\n",
    "            \"scale\": lambda: pm.Gamma(\"scale\", alpha=7, beta=1000),\n",
    "            \"temperature_min\": lambda: pm.Gamma(\"temperature_min\", alpha=7, beta=1 / 2),\n",
    "            \"temperature_max\": lambda: pm.Gamma(\n",
    "                \"temperature_max\", alpha=10, beta=1 / 4\n",
    "            ),\n",
    "            \"noise_std\": lambda: pm.Uniform(\"noise_std\", lower=0, upper=5),\n",
    "        },\n",
    "        \"attrs\": {\"long_name\": \"Egg to adult survival probability\"},\n",
    "    },\n",
    "    \"adult_lifespan\": {\n",
    "        \"curve_type\": \"quadratic\",\n",
    "        \"priors\": {\n",
    "            \"scale\": lambda: pm.Gamma(\"scale\", alpha=1, beta=2),\n",
    "            \"temperature_min\": lambda: pm.Gamma(\"temperature_min\", alpha=5, beta=1 / 2),\n",
    "            \"temperature_max\": lambda: pm.Gamma(\"temperature_max\", alpha=9, beta=1 / 5),\n",
    "            \"noise_std\": lambda: pm.Uniform(\"noise_std\", lower=0, upper=50),\n",
    "        },\n",
    "        \"attrs\": {\n",
    "            \"long_name\": \"Adult lifespan\",\n",
    "            \"units\": \"days\",\n",
    "        },\n",
    "    },\n",
    "    \"aquatic_stage_carrying_capacity_per_m2\": lambda temperature=None,\n",
    "    precipitation=None: (precipitation >= 0.2)\n",
    "    * precipitation\n",
    "    * 300\n",
    "    / (25 * 4.59 * (5 + 245 + precipitation)),\n",
    "    \"larval_flush_out_rate\": lambda temperature=None, precipitation=None: (\n",
    "        precipitation\n",
    "    ),\n",
    "}\n",
    "data = epimod.get_example_temperature_response_data(\"mordecai_ae_aegypti\")"
   ]
  },
  {
   "cell_type": "code",
   "execution_count": null,
   "id": "c725ba9b",
   "metadata": {},
   "outputs": [],
   "source": [
    "def _suitability_function(\n",
    "    eggs_per_female_per_day=None,\n",
    "    egg_to_adult_development_rate=None,\n",
    "    egg_to_adult_survival_probability=None,\n",
    "    adult_lifespan=None,\n",
    "    aquatic_stage_carrying_capacity_per_m2=None,\n",
    "    larval_flush_out_rate=None,\n",
    "):\n",
    "    aquatic_to_adult_development_rate = (73 / 48) * egg_to_adult_development_rate\n",
    "    aquatic_stage_death_rate = aquatic_to_adult_development_rate * (\n",
    "        (1 / egg_to_adult_survival_probability) - 1\n",
    "    )\n",
    "    equilibrium_density = aquatic_stage_carrying_capacity_per_m2 * (\n",
    "        0.5 * aquatic_to_adult_development_rate * adult_lifespan\n",
    "        - (\n",
    "            larval_flush_out_rate\n",
    "            + aquatic_stage_death_rate\n",
    "            + aquatic_to_adult_development_rate\n",
    "        )\n",
    "        / eggs_per_female_per_day\n",
    "    )\n",
    "    suitability = equilibrium_density > 0\n",
    "    return suitability"
   ]
  },
  {
   "cell_type": "code",
   "execution_count": null,
   "id": "83254c1f",
   "metadata": {},
   "outputs": [],
   "source": [
    "suitability_model = epimod.ParameterizedSuitabilityModel(\n",
    "    parameters=parameters, data=data, suitability_function=_suitability_function\n",
    ")"
   ]
  },
  {
   "cell_type": "code",
   "execution_count": null,
   "id": "8cadb2e9",
   "metadata": {},
   "outputs": [],
   "source": [
    "idata_dict = suitability_model.fit_temperature_responses(\n",
    "    tune=10000, draws=10000, thin=10\n",
    ")"
   ]
  },
  {
   "cell_type": "code",
   "execution_count": null,
   "id": "cf0dede5",
   "metadata": {},
   "outputs": [],
   "source": [
    "plots = (\n",
    "    suitability_model.plot_fitted_temperature_responses(\n",
    "        temperature_vals=np.linspace(0, 50, 500)\n",
    "    )\n",
    "    .cols(2)\n",
    "    .opts(legend_position=\"top_right\")\n",
    ")\n",
    "plots[0].opts(ylim=(0, 15), legend_position=\"top_left\")\n",
    "plots[1].opts(ylim=(0, 0.2), show_legend=False)\n",
    "plots[2].opts(ylim=(0, 1), show_legend=False)\n",
    "plots[3].opts(ylim=(0, 50), show_legend=False)\n",
    "plots"
   ]
  },
  {
   "cell_type": "code",
   "execution_count": null,
   "id": "718c7715",
   "metadata": {},
   "outputs": [],
   "source": [
    "az.plot_trace(idata_dict[\"eggs_per_female_per_day\"], figsize=(10, 10), show=False)"
   ]
  },
  {
   "cell_type": "code",
   "execution_count": null,
   "id": "8c8aa52f",
   "metadata": {},
   "outputs": [],
   "source": [
    "az.plot_trace(idata_dict[\"egg_to_adult_development_rate\"]);"
   ]
  },
  {
   "cell_type": "code",
   "execution_count": null,
   "id": "0ba2a129",
   "metadata": {},
   "outputs": [],
   "source": [
    "az.plot_trace(idata_dict[\"egg_to_adult_survival_probability\"]);"
   ]
  },
  {
   "cell_type": "code",
   "execution_count": null,
   "id": "656a6844",
   "metadata": {},
   "outputs": [],
   "source": [
    "az.plot_trace(idata_dict[\"adult_lifespan\"]);"
   ]
  },
  {
   "cell_type": "code",
   "execution_count": null,
   "id": "e4022e36",
   "metadata": {},
   "outputs": [],
   "source": [
    "for parameter_name, idata in idata_dict.items():\n",
    "    print(f\"Parameter: {parameter_name}\")\n",
    "    print(az.rhat(idata))"
   ]
  },
  {
   "cell_type": "code",
   "execution_count": null,
   "id": "a0a516b8",
   "metadata": {},
   "outputs": [],
   "source": [
    "for parameter_name, idata in idata_dict.items():\n",
    "    print(f\"Parameter: {parameter_name}\")\n",
    "    print(az.ess(idata))"
   ]
  },
  {
   "cell_type": "code",
   "execution_count": null,
   "id": "039b75b2",
   "metadata": {},
   "outputs": [],
   "source": [
    "suitability_model.construct_suitability_table(\n",
    "    temperature_vals=np.linspace(0, 40, 200),\n",
    "    precipitation_vals=np.linspace(0, 30, 200),\n",
    ")"
   ]
  },
  {
   "cell_type": "code",
   "execution_count": null,
   "id": "5f291b70",
   "metadata": {},
   "outputs": [],
   "source": [
    "suitability_model.reduce(stat=\"mean\").plot_suitability(rasterize=True).opts(\n",
    "    color_levels=[0, 0.025, 0.5, 0.975, 1],\n",
    "    cmap=[\"green\", \"yellow\", \"orange\", \"red\"],\n",
    ")"
   ]
  },
  {
   "cell_type": "code",
   "execution_count": null,
   "id": "00928209",
   "metadata": {},
   "outputs": [],
   "source": [
    "suitability_model.reduce(stat=\"median\").plot_suitability(rasterize=True)"
   ]
  }
 ],
 "metadata": {
  "kernelspec": {
   "display_name": "default",
   "language": "python",
   "name": "python3"
  },
  "language_info": {
   "codemirror_mode": {
    "name": "ipython",
    "version": 3
   },
   "file_extension": ".py",
   "mimetype": "text/x-python",
   "name": "python",
   "nbconvert_exporter": "python",
   "pygments_lexer": "ipython3",
   "version": "3.13.5"
  }
 },
 "nbformat": 4,
 "nbformat_minor": 5
}
