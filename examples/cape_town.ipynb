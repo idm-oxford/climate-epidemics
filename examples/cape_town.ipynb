{
 "cells": [
  {
   "cell_type": "code",
   "execution_count": null,
   "metadata": {},
   "outputs": [],
   "source": [
    "import climepi\n",
    "import climepi.climdata as climdata\n",
    "import climepi.epimod as epimod"
   ]
  },
  {
   "cell_type": "code",
   "execution_count": null,
   "metadata": {},
   "outputs": [],
   "source": [
    "ds_clim = climdata.cesm.get_example_dataset('cape_town')\n",
    "ds_clim"
   ]
  },
  {
   "cell_type": "code",
   "execution_count": null,
   "metadata": {},
   "outputs": [],
   "source": [
    "ds_temp_annual_mean = ds_clim.climepi.annual_mean('temperature')\n",
    "p_mean_ci = ds_temp_annual_mean.climepi.plot_ensemble_ci_time_series(conf_level=90)\n",
    "p_example = ds_temp_annual_mean.isel(realization=0).climepi.plot_time_series(color='r')\n",
    "p_mean_ci* p_example"
   ]
  },
  {
   "cell_type": "code",
   "execution_count": null,
   "metadata": {},
   "outputs": [],
   "source": [
    "ecol_niche_model = epimod.ecolniche.get_kaye_model()\n",
    "ds_clim.epimod.model = ecol_niche_model\n",
    "ds_epi = ds_clim.epimod.run_model()\n",
    "ds_months_suitable = ds_epi.epimod.months_suitable()\n",
    "ds_months_suitable"
   ]
  },
  {
   "cell_type": "code",
   "execution_count": null,
   "metadata": {},
   "outputs": [],
   "source": [
    "p_months_suitable_ens_mean_ci = ds_months_suitable.climepi.plot_ensemble_ci_time_series(conf_level=90)\n",
    "p_example = ds_months_suitable.isel(realization=0).climepi.plot_time_series(color='r')\n",
    "p_months_suitable_ens_mean_ci* p_example"
   ]
  },
  {
   "cell_type": "code",
   "execution_count": null,
   "metadata": {},
   "outputs": [],
   "source": [
    "ds_clim_ens_mean = ds_clim.climepi.ensemble_mean()\n",
    "ds_clim_ens_mean.epimod.model = ecol_niche_model\n",
    "ds_ens_mean_months_suitable = ds_clim_ens_mean.epimod.run_model().epimod.months_suitable()\n",
    "p_ens_mean_months_suitable = ds_ens_mean_months_suitable.climepi.plot_time_series(color='r')\n",
    "p_months_suitable_ens_mean_ci * p_ens_mean_months_suitable"
   ]
  }
 ],
 "metadata": {
  "kernelspec": {
   "display_name": "climepi",
   "language": "python",
   "name": "python3"
  },
  "language_info": {
   "codemirror_mode": {
    "name": "ipython",
    "version": 3
   },
   "file_extension": ".py",
   "mimetype": "text/x-python",
   "name": "python",
   "nbconvert_exporter": "python",
   "pygments_lexer": "ipython3",
   "version": "3.11.7"
  }
 },
 "nbformat": 4,
 "nbformat_minor": 2
}
