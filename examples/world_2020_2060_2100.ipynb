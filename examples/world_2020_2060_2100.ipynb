{
 "cells": [
  {
   "cell_type": "code",
   "execution_count": null,
   "metadata": {},
   "outputs": [],
   "source": [
    "import climepi\n",
    "import climepi.climdata.cesm as cesm\n",
    "import climepi.epimod as epimod\n",
    "import climepi.epimod.ecolniche as ecolniche"
   ]
  },
  {
   "cell_type": "code",
   "execution_count": null,
   "metadata": {},
   "outputs": [],
   "source": [
    "ds_clim = cesm.get_example_dataset('world_2020_2060_2100')\n",
    "ds_clim"
   ]
  },
  {
   "cell_type": "code",
   "execution_count": null,
   "metadata": {},
   "outputs": [],
   "source": [
    "ds_temp_annual_mean_ensemble_mean = ds_clim.climepi.annual_mean('temperature').climepi.ensemble_mean()\n",
    "ds_temp_annual_mean_ensemble_mean.climepi.plot_map()"
   ]
  },
  {
   "cell_type": "code",
   "execution_count": null,
   "metadata": {},
   "outputs": [],
   "source": [
    "ecol_niche_model = ecolniche.import_kaye_model()\n",
    "ecol_niche_model.plot_niche()"
   ]
  },
  {
   "cell_type": "code",
   "execution_count": null,
   "metadata": {},
   "outputs": [],
   "source": [
    "ds_clim.epimod.model = ecol_niche_model\n",
    "ds_epi = ds_clim.epimod.run_model()\n",
    "ds_epi"
   ]
  },
  {
   "cell_type": "code",
   "execution_count": null,
   "metadata": {},
   "outputs": [],
   "source": [
    "ds_months_suitable = ds_epi.epimod.months_suitable()\n",
    "ds_months_suitable"
   ]
  },
  {
   "cell_type": "code",
   "execution_count": null,
   "metadata": {},
   "outputs": [],
   "source": [
    "ds_months_suitable.climepi.ensemble_mean().climepi.plot_map()"
   ]
  },
  {
   "cell_type": "code",
   "execution_count": null,
   "metadata": {},
   "outputs": [],
   "source": [
    "ds_months_suitable_ensemble_stats = ds_months_suitable.climepi.ensemble_stats()\n",
    "ds_months_suitable_ensemble_min = ds_months_suitable_ensemble_stats.sel(ensemble_statistic='min')\n",
    "ds_months_suitable_ensemble_max = ds_months_suitable_ensemble_stats.sel(ensemble_statistic='max')"
   ]
  },
  {
   "cell_type": "code",
   "execution_count": null,
   "metadata": {},
   "outputs": [],
   "source": [
    "p_min = ds_months_suitable_ensemble_min.climepi.plot_map(frame_width=500)\n",
    "p_max = ds_months_suitable_ensemble_max.climepi.plot_map(frame_width=500)\n",
    "p = (p_min + p_max).cols(1)"
   ]
  },
  {
   "cell_type": "code",
   "execution_count": null,
   "metadata": {},
   "outputs": [],
   "source": [
    "da_months_suitable_change = ds_months_suitable[\"months_suitable\"].isel(time=-1)-ds_months_suitable[\"months_suitable\"].isel(time=0)\n",
    "ds_months_suitable_change = da_months_suitable_change.to_dataset()\n",
    "ds_months_suitable_change.climepi.ensemble_mean().climepi.plot_map()"
   ]
  }
 ],
 "metadata": {
  "kernelspec": {
   "display_name": "climepi",
   "language": "python",
   "name": "python3"
  },
  "language_info": {
   "codemirror_mode": {
    "name": "ipython",
    "version": 3
   },
   "file_extension": ".py",
   "mimetype": "text/x-python",
   "name": "python",
   "nbconvert_exporter": "python",
   "pygments_lexer": "ipython3",
   "version": "3.11.6"
  }
 },
 "nbformat": 4,
 "nbformat_minor": 2
}
