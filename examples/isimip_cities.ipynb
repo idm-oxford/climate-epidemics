{
 "cells": [
  {
   "cell_type": "code",
   "execution_count": null,
   "metadata": {},
   "outputs": [],
   "source": [
    "import xarray as xr\n",
    "\n",
    "import climepi  # noqa\n",
    "from climepi import climdata, epimod"
   ]
  },
  {
   "cell_type": "code",
   "execution_count": null,
   "metadata": {},
   "outputs": [],
   "source": [
    "ds_clim = climdata.get_example_dataset(\"isimip_cities_daily\")\n",
    "ds_clim"
   ]
  },
  {
   "cell_type": "code",
   "execution_count": null,
   "metadata": {},
   "outputs": [],
   "source": [
    "ds_clim_ym = ds_clim.climepi.yearly_average()\n",
    "ds_clim_ym.climepi.plot_time_series(\"temperature\", by=\"scenario\")"
   ]
  },
  {
   "cell_type": "code",
   "execution_count": null,
   "metadata": {},
   "outputs": [],
   "source": [
    "epi_model = epimod.get_example_model(\"mordecai_ae_aegypti_niche\")\n",
    "ds_epi = ds_clim.climepi.run_epi_model(epi_model)\n",
    "ds_portion_suitable = ds_epi.climepi.yearly_portion_suitable()\n",
    "ds_portion_suitable.climepi.plot_time_series(by=\"scenario\")"
   ]
  },
  {
   "cell_type": "code",
   "execution_count": null,
   "metadata": {},
   "outputs": [],
   "source": [
    "ds = xr.merge([ds_clim_ym, ds_portion_suitable])"
   ]
  },
  {
   "cell_type": "code",
   "execution_count": null,
   "metadata": {},
   "outputs": [],
   "source": [
    "ds_stat = ds.climepi.ensemble_stats()\n",
    "ds_stat"
   ]
  },
  {
   "cell_type": "code",
   "execution_count": null,
   "metadata": {},
   "outputs": [],
   "source": [
    "data_var_plot = \"portion_suitable\""
   ]
  },
  {
   "cell_type": "code",
   "execution_count": null,
   "metadata": {},
   "outputs": [],
   "source": [
    "p1 = ds_stat.sel(stat=\"mean\").climepi.plot_time_series(data_var_plot, by=\"scenario\")\n",
    "p2 = ds.climepi.plot_time_series(data_var_plot, by=\"scenario\")\n",
    "p1 * p2"
   ]
  },
  {
   "cell_type": "code",
   "execution_count": null,
   "metadata": {},
   "outputs": [],
   "source": [
    "ds.climepi.plot_variance_decomposition(data_var_plot)"
   ]
  },
  {
   "cell_type": "code",
   "execution_count": null,
   "metadata": {},
   "outputs": [],
   "source": [
    "ds.climepi.plot_variance_decomposition(data_var_plot, fraction=True)"
   ]
  },
  {
   "cell_type": "code",
   "execution_count": null,
   "metadata": {},
   "outputs": [],
   "source": [
    "ds.climepi.plot_uncertainty_interval_decomposition(data_var_plot)"
   ]
  },
  {
   "cell_type": "code",
   "execution_count": null,
   "metadata": {},
   "outputs": [],
   "source": [
    "scenario_ex = \"ssp370\"\n",
    "model_ex = \"ipsl-cm6a-lr\"\n",
    "ds.sel(scenario=scenario_ex).climepi.plot_uncertainty_interval_decomposition(\n",
    "    data_var_plot\n",
    ") * ds.sel(scenario=scenario_ex).climepi.plot_time_series(data_var_plot)"
   ]
  },
  {
   "cell_type": "code",
   "execution_count": null,
   "metadata": {},
   "outputs": [],
   "source": [
    "ds.sel(scenario=scenario_ex).climepi.plot_uncertainty_interval_decomposition(\n",
    "    data_var_plot\n",
    ") * ds.sel(scenario=scenario_ex).climepi.plot_time_series(data_var_plot, by=\"model\")"
   ]
  },
  {
   "cell_type": "code",
   "execution_count": null,
   "metadata": {},
   "outputs": [],
   "source": [
    "ds.sel(model=model_ex).climepi.plot_uncertainty_interval_decomposition(\n",
    "    data_var_plot\n",
    ") * ds.sel(model=model_ex).climepi.plot_time_series(data_var_plot, by=\"scenario\")"
   ]
  },
  {
   "cell_type": "code",
   "execution_count": null,
   "metadata": {},
   "outputs": [],
   "source": [
    "ds.sel(\n",
    "    scenario=scenario_ex, model=model_ex\n",
    ").climepi.plot_uncertainty_interval_decomposition(data_var_plot) * ds.sel(\n",
    "    scenario=scenario_ex, model=model_ex\n",
    ").climepi.plot_time_series(data_var_plot)"
   ]
  }
 ],
 "metadata": {
  "kernelspec": {
   "display_name": "default",
   "language": "python",
   "name": "python3"
  },
  "language_info": {
   "codemirror_mode": {
    "name": "ipython",
    "version": 3
   },
   "file_extension": ".py",
   "mimetype": "text/x-python",
   "name": "python",
   "nbconvert_exporter": "python",
   "pygments_lexer": "ipython3",
   "version": "3.13.5"
  }
 },
 "nbformat": 4,
 "nbformat_minor": 2
}
