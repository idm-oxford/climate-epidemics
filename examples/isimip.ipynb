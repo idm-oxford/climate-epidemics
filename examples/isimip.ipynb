{
 "cells": [
  {
   "cell_type": "code",
   "execution_count": null,
   "metadata": {},
   "outputs": [],
   "source": [
    "import hvplot.xarray\n",
    "import numpy as np\n",
    "import scipy.stats\n",
    "import xarray as xr\n",
    "\n",
    "import climepi\n",
    "import climepi.climdata as climdata\n",
    "import climepi.epimod as epimod"
   ]
  },
  {
   "cell_type": "code",
   "execution_count": null,
   "metadata": {},
   "outputs": [],
   "source": [
    "ds_clim = climdata.get_example_dataset(\"isimip_london\")\n",
    "ds_clim[\"time\"].attrs[\"long_name\"] = \"Time\""
   ]
  },
  {
   "cell_type": "code",
   "execution_count": null,
   "metadata": {},
   "outputs": [],
   "source": [
    "ds_clim_ym = ds_clim.climepi.yearly_average()\n",
    "ds_clim_ym.climepi.plot_time_series(\"temperature\", by=[\"scenario\"])"
   ]
  },
  {
   "cell_type": "code",
   "execution_count": null,
   "metadata": {},
   "outputs": [],
   "source": [
    "ecol_niche_model = epimod.ecolniche.get_kaye_model()\n",
    "ds_clim.epimod.model = ecol_niche_model\n",
    "ds_epi = ds_clim.epimod.run_model()\n",
    "ds_months_suitable = ds_epi.epimod.months_suitable()\n",
    "ds_months_suitable.climepi.plot_time_series(by=[\"scenario\"])"
   ]
  },
  {
   "cell_type": "code",
   "execution_count": null,
   "metadata": {},
   "outputs": [],
   "source": [
    "ds_ym = xr.merge([ds_clim_ym, ds_months_suitable])\n",
    "ds_ym"
   ]
  },
  {
   "cell_type": "code",
   "execution_count": null,
   "metadata": {},
   "outputs": [],
   "source": [
    "ds_ym_stat = ds_ym.climepi.ensemble_stats()\n",
    "ds_ym_stat"
   ]
  },
  {
   "cell_type": "code",
   "execution_count": null,
   "metadata": {},
   "outputs": [],
   "source": [
    "data_var_plot = \"months_suitable\""
   ]
  },
  {
   "cell_type": "code",
   "execution_count": null,
   "metadata": {},
   "outputs": [],
   "source": [
    "p1 = ds_ym_stat.sel(ensemble_stat=\"mean\").climepi.plot_time_series(\n",
    "    data_var_plot, by=[\"scenario\"]\n",
    ")\n",
    "p2 = ds_ym.climepi.plot_time_series(data_var_plot, by=[\"scenario\"])\n",
    "p1 * p2"
   ]
  },
  {
   "cell_type": "code",
   "execution_count": null,
   "metadata": {},
   "outputs": [],
   "source": [
    "ds_ym.climepi.plot_var_decomp(data_var_plot)"
   ]
  },
  {
   "cell_type": "code",
   "execution_count": null,
   "metadata": {},
   "outputs": [],
   "source": [
    "ds_ym.climepi.plot_var_decomp(data_var_plot, fraction=True)"
   ]
  },
  {
   "cell_type": "code",
   "execution_count": null,
   "metadata": {},
   "outputs": [],
   "source": [
    "ds_ym.climepi.plot_ci_plume(data_var_plot)"
   ]
  },
  {
   "cell_type": "code",
   "execution_count": null,
   "metadata": {},
   "outputs": [],
   "source": [
    "scenario_ex = \"ssp370\"\n",
    "model_ex = \"ipsl-cm6a-lr\"\n",
    "ds_ym.sel(scenario=scenario_ex).climepi.plot_ci_plume(data_var_plot) * ds_ym.sel(\n",
    "    scenario=scenario_ex\n",
    ").climepi.plot_time_series(data_var_plot)"
   ]
  },
  {
   "cell_type": "code",
   "execution_count": null,
   "metadata": {},
   "outputs": [],
   "source": [
    "ds_ym.sel(scenario=scenario_ex).climepi.plot_ci_plume(data_var_plot) * ds_ym.sel(\n",
    "    scenario=scenario_ex\n",
    ").climepi.plot_time_series(data_var_plot, by=\"model\")"
   ]
  },
  {
   "cell_type": "code",
   "execution_count": null,
   "metadata": {},
   "outputs": [],
   "source": [
    "ds_ym.sel(model=model_ex).climepi.plot_ci_plume(data_var_plot) * ds_ym.sel(\n",
    "    model=model_ex\n",
    ").climepi.plot_time_series(data_var_plot, by=\"scenario\")"
   ]
  },
  {
   "cell_type": "code",
   "execution_count": null,
   "metadata": {},
   "outputs": [],
   "source": [
    "ds_ym.sel(scenario=scenario_ex, model=model_ex).climepi.plot_ci_plume(\n",
    "    data_var_plot\n",
    ") * ds_ym.sel(scenario=scenario_ex, model=model_ex).climepi.plot_time_series(\n",
    "    data_var_plot\n",
    ")"
   ]
  }
 ],
 "metadata": {
  "kernelspec": {
   "display_name": "climepi",
   "language": "python",
   "name": "python3"
  },
  "language_info": {
   "codemirror_mode": {
    "name": "ipython",
    "version": 3
   },
   "file_extension": ".py",
   "mimetype": "text/x-python",
   "name": "python",
   "nbconvert_exporter": "python",
   "pygments_lexer": "ipython3",
   "version": "3.11.7"
  }
 },
 "nbformat": 4,
 "nbformat_minor": 2
}
