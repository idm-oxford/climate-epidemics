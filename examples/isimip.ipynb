{
 "cells": [
  {
   "cell_type": "code",
   "execution_count": null,
   "metadata": {},
   "outputs": [],
   "source": [
    "import xarray as xr\n",
    "\n",
    "import climepi\n",
    "import climepi.climdata as climdata\n",
    "import climepi.epimod as epimod"
   ]
  },
  {
   "cell_type": "code",
   "execution_count": null,
   "metadata": {},
   "outputs": [],
   "source": [
    "ds_clim = climdata.get_example_dataset(\"isimip_london_small\")\n",
    "ds_clim"
   ]
  },
  {
   "cell_type": "code",
   "execution_count": null,
   "metadata": {},
   "outputs": [],
   "source": [
    "ds_clim_ym = ds_clim.climepi.yearly_average()\n",
    "ds_clim_ym.climepi.plot_time_series(\"temperature\", by=[\"scenario\", \"model\"])\n",
    "# ds_clim.isel(time=ds_clim.time.dt.year==2100).climepi.plot_time_series(\"temperature\", color=\"r\")"
   ]
  },
  {
   "cell_type": "code",
   "execution_count": null,
   "metadata": {},
   "outputs": [],
   "source": [
    "data_vars = ds_clim_ym.climepi.get_non_bnd_data_vars()\n",
    "poly_coeff_data_vars = [data_var + \"_polyfit_coefficients\" for data_var in data_vars]\n",
    "data_var_mapping = dict(zip(poly_coeff_data_vars, data_vars))\n",
    "fitted_polys = ds_clim_ym[data_vars].polyfit(dim=\"time\", deg=4, full=True)\n",
    "ds_clim_ym_fit = xr.polyval(\n",
    "    coord=ds_clim_ym.time,\n",
    "    coeffs=fitted_polys[poly_coeff_data_vars],\n",
    ").rename(data_var_mapping)"
   ]
  },
  {
   "cell_type": "code",
   "execution_count": null,
   "metadata": {},
   "outputs": [],
   "source": [
    "fitted_polys"
   ]
  },
  {
   "cell_type": "code",
   "execution_count": null,
   "metadata": {},
   "outputs": [],
   "source": [
    "ds_clim_ym_fit"
   ]
  },
  {
   "cell_type": "code",
   "execution_count": null,
   "metadata": {},
   "outputs": [],
   "source": [
    "p1 = ds_clim_ym_fit.squeeze().climepi.plot_time_series(\n",
    "    \"temperature\", by=[\"scenario\", \"model\"]\n",
    ")\n",
    "p2 = ds_clim_ym.squeeze().climepi.plot_time_series(\n",
    "    \"temperature\", by=[\"scenario\", \"model\"]\n",
    ")\n",
    "p1 * p2"
   ]
  },
  {
   "cell_type": "code",
   "execution_count": null,
   "metadata": {},
   "outputs": [],
   "source": []
  }
 ],
 "metadata": {
  "kernelspec": {
   "display_name": "climepi",
   "language": "python",
   "name": "python3"
  },
  "language_info": {
   "codemirror_mode": {
    "name": "ipython",
    "version": 3
   },
   "file_extension": ".py",
   "mimetype": "text/x-python",
   "name": "python",
   "nbconvert_exporter": "python",
   "pygments_lexer": "ipython3",
   "version": "3.11.7"
  }
 },
 "nbformat": 4,
 "nbformat_minor": 2
}
