{
 "cells": [
  {
   "cell_type": "code",
   "execution_count": null,
   "metadata": {},
   "outputs": [],
   "source": [
    "import xarray as xr\n",
    "\n",
    "import climepi  # noqa\n",
    "from climepi import climdata, epimod"
   ]
  },
  {
   "cell_type": "code",
   "execution_count": null,
   "metadata": {},
   "outputs": [],
   "source": [
    "ds_clim = climdata.get_example_dataset(\"lens2_2030_2060_2090_monthly\")\n",
    "ds_clim"
   ]
  },
  {
   "cell_type": "code",
   "execution_count": null,
   "metadata": {},
   "outputs": [],
   "source": [
    "ds_clim_ym = ds_clim.climepi.yearly_average()\n",
    "ds_clim_ym"
   ]
  },
  {
   "cell_type": "code",
   "execution_count": null,
   "metadata": {},
   "outputs": [],
   "source": [
    "epi_model = epimod.get_example_model(\"kaye_ae_aegypti_niche\")\n",
    "epi_model.plot_suitability_region()"
   ]
  },
  {
   "cell_type": "code",
   "execution_count": null,
   "metadata": {},
   "outputs": [],
   "source": [
    "ds_epi = ds_clim.climepi.run_epi_model(epi_model)\n",
    "ds_portion_suitable = ds_epi.climepi.yearly_portion_suitable()\n",
    "ds_portion_suitable"
   ]
  },
  {
   "cell_type": "code",
   "execution_count": null,
   "metadata": {},
   "outputs": [],
   "source": [
    "ds = xr.merge([ds_clim_ym, ds_portion_suitable])\n",
    "ds_stat = ds.climepi.ensemble_stats()"
   ]
  },
  {
   "cell_type": "code",
   "execution_count": null,
   "metadata": {},
   "outputs": [],
   "source": [
    "data_var_plot = \"portion_suitable\""
   ]
  },
  {
   "cell_type": "code",
   "execution_count": null,
   "metadata": {},
   "outputs": [],
   "source": [
    "ds_stat.sel(stat=\"mean\").climepi.plot_map(data_var_plot, frame_width=500)"
   ]
  },
  {
   "cell_type": "code",
   "execution_count": null,
   "metadata": {},
   "outputs": [],
   "source": [
    "p_min = ds_stat.sel(stat=\"min\").climepi.plot_map(data_var_plot, frame_width=500)\n",
    "p_max = ds_stat.sel(stat=\"max\").climepi.plot_map(data_var_plot, frame_width=500)\n",
    "(p_min + p_max).cols(1)"
   ]
  },
  {
   "cell_type": "code",
   "execution_count": null,
   "metadata": {},
   "outputs": [],
   "source": [
    "ds_change = (ds.compute().isel(time=-1) - ds.compute().isel(time=0)).drop_vars(\n",
    "    \"time_bnds\"\n",
    ")\n",
    "ds_change.climepi.ensemble_stats().sel(stat=\"mean\").climepi.plot_map(\n",
    "    data_var_plot, frame_width=500\n",
    ")"
   ]
  }
 ],
 "metadata": {
  "kernelspec": {
   "display_name": "default",
   "language": "python",
   "name": "python3"
  },
  "language_info": {
   "codemirror_mode": {
    "name": "ipython",
    "version": 3
   },
   "file_extension": ".py",
   "mimetype": "text/x-python",
   "name": "python",
   "nbconvert_exporter": "python",
   "pygments_lexer": "ipython3",
   "version": "3.13.3"
  }
 },
 "nbformat": 4,
 "nbformat_minor": 2
}
